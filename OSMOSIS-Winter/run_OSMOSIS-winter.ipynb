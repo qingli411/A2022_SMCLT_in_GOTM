{
 "cells": [
  {
   "cell_type": "markdown",
   "metadata": {},
   "source": [
    "# OSMOSIS Winter\n",
    "\n",
    "This notebook runs [GOTM](https://gotm.net/) with initial conditions and surface forcing during the winter months (Sep. 22, 2012 - Dec. 5, 2012) of the Ocean Surface Mixing, Ocean Submesoscale Interaction Study in the northeast Atlantic (OSMOSIS, 48.7$^\\circ$N, 16.2$^\\circ$W; [Damerell et al., 2016](https://doi.org/10.1002/2015JC011423)). See Fig. 2 of [Li et al., 2019](https://doi.org/10.1029/2019MS001810)."
   ]
  },
  {
   "cell_type": "code",
   "execution_count": 1,
   "metadata": {},
   "outputs": [],
   "source": [
    "import sys\n",
    "import copy\n",
    "import numpy as np\n",
    "import matplotlib.pyplot as plt\n",
    "sys.path.append(\"../gotmtool\")\n",
    "from gotmtool import *"
   ]
  },
  {
   "cell_type": "markdown",
   "metadata": {},
   "source": [
    "## Create a model\n",
    "Create a model with environment file `.gotm_env.yaml`, which is created by `gotm_env_init.py`. "
   ]
  },
  {
   "cell_type": "code",
   "execution_count": 2,
   "metadata": {},
   "outputs": [],
   "source": [
    "m = Model(name='OSMOSIS-Winter', environ='../gotmtool/.gotm_env.yaml')"
   ]
  },
  {
   "cell_type": "markdown",
   "metadata": {},
   "source": [
    "Take a look at what are defined in the environment file."
   ]
  },
  {
   "cell_type": "code",
   "execution_count": 3,
   "metadata": {},
   "outputs": [
    {
     "name": "stdout",
     "output_type": "stream",
     "text": [
      "   gotmdir_code: /home/qingli/work/gotm/A2022_SMCLT_in_GOTM/gotm/code\n",
      "   gotmdir_data: /home/qingli/work/gotm/A2022_SMCLT_in_GOTM/gotm/data\n",
      "  gotmdir_build: /home/qingli/work/gotm/A2022_SMCLT_in_GOTM/gotm/build\n",
      "    gotmdir_exe: /home/qingli/work/gotm/A2022_SMCLT_in_GOTM/gotm/exe\n",
      "    gotmdir_run: /home/qingli/work/gotm/A2022_SMCLT_in_GOTM/gotm/run\n",
      " gotmdir_figure: /home/qingli/work/gotm/A2022_SMCLT_in_GOTM/gotm/figure\n",
      "   gotmdir_tool: /home/qingli/work/gotm/A2022_SMCLT_in_GOTM/gotmtool\n"
     ]
    }
   ],
   "source": [
    "for key in m.environ:\n",
    "    print('{:>15s}: {}'.format(key, m.environ[key]) )"
   ]
  },
  {
   "cell_type": "markdown",
   "metadata": {},
   "source": [
    "## Build the model"
   ]
  },
  {
   "cell_type": "code",
   "execution_count": 4,
   "metadata": {},
   "outputs": [
    {
     "name": "stdout",
     "output_type": "stream",
     "text": [
      "\u001b[94mWARNING: GOTM is updated. Skipping the build step. Use 'clean=True' to rebuild\u001b[0m\n",
      "CPU times: user 8.17 ms, sys: 18.6 ms, total: 26.8 ms\n",
      "Wall time: 84.6 ms\n"
     ]
    }
   ],
   "source": [
    "%%time\n",
    "m.build()"
   ]
  },
  {
   "cell_type": "markdown",
   "metadata": {},
   "source": [
    "## Configuration\n",
    "Initialize the GOTM configuration"
   ]
  },
  {
   "cell_type": "code",
   "execution_count": 5,
   "metadata": {},
   "outputs": [
    {
     "name": "stdout",
     "output_type": "stream",
     "text": [
      "Generating default configuration at '/home/qingli/work/gotm/A2022_SMCLT_in_GOTM/gotm/run/OSMOSIS-Winter/gotm.yaml'...\n",
      "\u001b[92mDone!\u001b[0m\n"
     ]
    },
    {
     "name": "stderr",
     "output_type": "stream",
     "text": [
      " ------------------------------------------------------------------------\n",
      " GOTM started on 2022/06/26 at 15:41:39\n",
      " ------------------------------------------------------------------------\n",
      "    initialize_gotm\n",
      " ------------------------------------------------------------------------\n",
      "        Reading configuration from: gotm.yaml\n",
      "        configuring modules ....\n",
      "    init_airsea_yaml\n",
      "        done\n",
      "    init_observations_yaml\n",
      "    init_stokes_drift_yaml\n",
      "        done\n",
      "    init_turbulence_yaml\n",
      "        done.\n",
      "    init_cvmix_yaml\n",
      "        done.\n",
      "    init_meanflow_yaml\n",
      "        done\n",
      "    init_eqstate_yaml\n",
      "        done.\n",
      " Your configuration has been written to /home/qingli/work/gotm/A2022_SMCLT_in_GOTM/gotm/run/OSMOSIS-Winter/gotm.yaml.\n",
      "STOP 0\n"
     ]
    }
   ],
   "source": [
    "cfg = m.init_config()"
   ]
  },
  {
   "cell_type": "markdown",
   "metadata": {},
   "source": [
    "Update the configuration"
   ]
  },
  {
   "cell_type": "code",
   "execution_count": 6,
   "metadata": {},
   "outputs": [],
   "source": [
    "# setup\n",
    "title = 'OSMOSIS - Winter'\n",
    "nlev = 200\n",
    "cfg['title'] = title\n",
    "cfg['location']['name'] = 'OSMOSIS'\n",
    "cfg['location']['latitude'] = 48.7\n",
    "cfg['location']['longitude'] = -16.2\n",
    "cfg['location']['depth'] = 200.0\n",
    "cfg['time']['start'] = '2012-09-22 00:00:00'\n",
    "cfg['time']['stop']  = '2012-12-05 03:00:00'\n",
    "cfg['time']['dt']    = 60.0\n",
    "cfg['grid']['nlev']  = nlev\n",
    "\n",
    "# output\n",
    "cfg['output'] = {}\n",
    "cfg['output']['gotm_out'] = {}\n",
    "cfg['output']['gotm_out']['use'] = True\n",
    "cfg['output']['gotm_out']['title'] = title\n",
    "cfg['output']['gotm_out']['k1_stop'] = nlev+1\n",
    "cfg['output']['gotm_out']['k_stop'] = nlev\n",
    "cfg['output']['gotm_out']['time_unit'] = 'hour'\n",
    "cfg['output']['gotm_out']['time_step'] = 3\n",
    "cfg['output']['gotm_out']['variables'] = [{}]\n",
    "cfg['output']['gotm_out']['variables'][0]['source'] = '*'\n",
    "\n",
    "# forcing\n",
    "datadir = os.path.dirname(os.path.dirname(m.environ['gotmdir_data']))+'/OSMOSIS-Winter'\n",
    "cfg['temperature']['method'] = 'file'\n",
    "cfg['temperature']['file'] = datadir+'/t_prof.dat'\n",
    "cfg['salinity']['method'] = 'file'\n",
    "cfg['salinity']['file'] = datadir+'/s_prof.dat'\n",
    "cfg['surface']['fluxes']['heat']['method'] = 'file'\n",
    "cfg['surface']['fluxes']['heat']['file'] = datadir+'/heat_flux.dat'\n",
    "cfg['surface']['fluxes']['tx']['method'] = 'file'\n",
    "cfg['surface']['fluxes']['tx']['file'] = datadir+'/momentum_flux.dat'\n",
    "cfg['surface']['fluxes']['tx']['column'] = 1\n",
    "cfg['surface']['fluxes']['ty']['method'] = 'file'\n",
    "cfg['surface']['fluxes']['ty']['file'] = datadir+'/momentum_flux.dat'\n",
    "cfg['surface']['fluxes']['ty']['column'] = 2\n",
    "cfg['surface']['swr']['method'] = 'file'\n",
    "cfg['surface']['swr']['file'] = datadir+'/swr.dat'\n",
    "cfg['surface']['precip']['method'] = 'file'\n",
    "cfg['surface']['precip']['file'] = datadir+'/pme.dat'\n",
    "cfg['waves']['stokes_drift']['us']['method'] = 'exponential'\n",
    "cfg['waves']['stokes_drift']['vs']['method'] = 'exponential'\n",
    "cfg['waves']['stokes_drift']['exponential']['us0']['method'] = 'file'\n",
    "cfg['waves']['stokes_drift']['exponential']['us0']['file'] = datadir+'/stokes_drift.dat'\n",
    "cfg['waves']['stokes_drift']['exponential']['us0']['column'] = 1\n",
    "cfg['waves']['stokes_drift']['exponential']['vs0']['method'] = 'file'\n",
    "cfg['waves']['stokes_drift']['exponential']['vs0']['file'] = datadir+'/stokes_drift.dat'\n",
    "cfg['waves']['stokes_drift']['exponential']['vs0']['column'] = 2\n",
    "cfg['waves']['stokes_drift']['exponential']['ds']['method'] = 'file'\n",
    "cfg['waves']['stokes_drift']['exponential']['ds']['file'] = datadir+'/stokes_drift.dat'\n",
    "cfg['waves']['stokes_drift']['exponential']['ds']['column'] = 3\n",
    "\n",
    "# water type\n",
    "cfg['light_extinction']['method'] = 'custom'\n",
    "cfg['light_extinction']['A']['method'] = 'constant'\n",
    "cfg['light_extinction']['A']['constant_value'] = 0.57\n",
    "cfg['light_extinction']['g1']['method'] = 'constant'\n",
    "cfg['light_extinction']['g1']['constant_value'] = 0.5\n",
    "cfg['light_extinction']['g2']['method'] = 'constant'\n",
    "cfg['light_extinction']['g2']['constant_value'] = 13.4\n",
    "\n",
    "# EOS -- use linear\n",
    "cfg['eq_state']['form'] = 'linear_custom'\n",
    "cfg['eq_state']['linear']['T0'] = 10.0\n",
    "cfg['eq_state']['linear']['S0'] = 35.0\n",
    "cfg['eq_state']['linear']['dtr0'] = -0.17\n",
    "cfg['eq_state']['linear']['dsr0'] = 0.78\n",
    "\n",
    "# damping on velocity: relaxation to zero with a 5-day decay time\n",
    "cfg['velocities']['relax']['tau'] = 432000.0"
   ]
  },
  {
   "cell_type": "markdown",
   "metadata": {},
   "source": [
    "Set the turbulence method to the generic length scale (GLS; [Umlauf and Burchard, 2003](https://doi.org/10.1357/002224003322005087)) model in the $k$-$\\epsilon$ formulation with the weak-equilibrium stability function by [Canuto et al., 2001](https://doi.org/10.1175/1520-0485(2001)031%3C1413:OTPIOP%3E2.0.CO;2) (C01A)."
   ]
  },
  {
   "cell_type": "code",
   "execution_count": 7,
   "metadata": {},
   "outputs": [],
   "source": [
    "cfg['turbulence']['turb_method'] = 'second_order'\n",
    "cfg['turbulence']['tke_method'] = 'tke'\n",
    "cfg['turbulence']['len_scale_method'] = 'gls'\n",
    "cfg['turbulence']['scnd']['method'] =  'weak_eq_kb_eq'\n",
    "cfg['turbulence']['scnd']['scnd_coeff'] =  'canuto-a'\n",
    "cfg['turbulence']['turb_param']['length_lim'] = 'false'\n",
    "cfg['turbulence']['turb_param']['compute_c3'] = 'true'\n",
    "cfg['turbulence']['turb_param']['Ri_st'] = 0.2\n",
    "cfg['turbulence']['generic']['gen_m'] = 1.5 \n",
    "cfg['turbulence']['generic']['gen_n'] = -1.0\n",
    "cfg['turbulence']['generic']['gen_p'] = 3.0 \n",
    "cfg['turbulence']['generic']['cpsi1'] = 1.44\n",
    "cfg['turbulence']['generic']['cpsi2'] = 1.92\n",
    "cfg['turbulence']['generic']['cpsi3minus'] = -0.63\n",
    "cfg['turbulence']['generic']['cpsi3plus'] = 1.0 \n",
    "cfg['turbulence']['generic']['sig_kpsi'] = 1.0 \n",
    "cfg['turbulence']['generic']['sig_psi'] = 1.3"
   ]
  },
  {
   "cell_type": "markdown",
   "metadata": {},
   "source": [
    "## Run the model"
   ]
  },
  {
   "cell_type": "code",
   "execution_count": 8,
   "metadata": {},
   "outputs": [
    {
     "name": "stdout",
     "output_type": "stream",
     "text": [
      "CPU times: user 36.2 ms, sys: 8.69 ms, total: 44.9 ms\n",
      "Wall time: 6.83 s\n"
     ]
    }
   ],
   "source": [
    "%%time\n",
    "sim = m.run(config=cfg, label='SMC-C01A')"
   ]
  },
  {
   "cell_type": "markdown",
   "metadata": {},
   "source": [
    "## Results\n",
    "\n",
    "Load the data into an `xarray.Dataset`."
   ]
  },
  {
   "cell_type": "code",
   "execution_count": 9,
   "metadata": {},
   "outputs": [],
   "source": [
    "data = sim.load_data()"
   ]
  },
  {
   "cell_type": "markdown",
   "metadata": {},
   "source": [
    "Temperature"
   ]
  },
  {
   "cell_type": "code",
   "execution_count": 10,
   "metadata": {},
   "outputs": [
    {
     "data": {
      "text/plain": [
       "<matplotlib.collections.QuadMesh at 0x7faa91412760>"
      ]
     },
     "execution_count": 10,
     "metadata": {},
     "output_type": "execute_result"
    },
    {
     "data": {
      "image/png": "[encoded data removed]",
      "text/plain": [
       "<Figure size 576x288 with 2 Axes>"
      ]
     },
     "metadata": {
      "needs_background": "light"
     },
     "output_type": "display_data"
    }
   ],
   "source": [
    "fig = plt.figure(figsize=[8,4])\n",
    "levels = np.linspace(12, 17, 51)\n",
    "data.temp.plot(levels=levels)"
   ]
  },
  {
   "cell_type": "markdown",
   "metadata": {},
   "source": [
    "## Try different turbulence models\n",
    "\n",
    "Now run the same model with [CVMix](http://cvmix.github.io). Try three options in CVMix:\n",
    "\n",
    "- KPP-CVMix ([Large et al., 1994](https://doi.org/10.1029/94RG01872), [Griffies et al., 2015](https://github.com/CVMix/CVMix-description/raw/master/cvmix.pdf))\n",
    "- KPPLT-VR12 ([Li et al., 2016](https://doi.org/10.1016%2Fj.ocemod.2015.07.020))\n",
    "- KPPLT-LF17 ([Li and Fox-Kemper, 2017](https://doi.org/10.1175%2FJPO-D-17-0085.1))"
   ]
  },
  {
   "cell_type": "code",
   "execution_count": 11,
   "metadata": {},
   "outputs": [],
   "source": [
    "cfgs = []\n",
    "labels = []"
   ]
  },
  {
   "cell_type": "code",
   "execution_count": 12,
   "metadata": {},
   "outputs": [],
   "source": [
    "cfg['turbulence']['turb_method'] = 'cvmix'\n",
    "cfg['cvmix']['surface_layer']['kpp']['langmuir_method'] = 'none'\n",
    "cfgs.append(copy.deepcopy(cfg))\n",
    "labels.append('KPP-CVMix')"
   ]
  },
  {
   "cell_type": "code",
   "execution_count": 13,
   "metadata": {},
   "outputs": [],
   "source": [
    "cfg['cvmix']['surface_layer']['kpp']['langmuir_method'] = 'lwf16'\n",
    "cfgs.append(copy.deepcopy(cfg))\n",
    "labels.append('KPPLT-VR12')"
   ]
  },
  {
   "cell_type": "code",
   "execution_count": 14,
   "metadata": {},
   "outputs": [],
   "source": [
    "cfg['cvmix']['surface_layer']['kpp']['langmuir_method'] = 'lf17'\n",
    "cfgs.append(copy.deepcopy(cfg))\n",
    "labels.append('KPPLT-LF17')"
   ]
  },
  {
   "cell_type": "markdown",
   "metadata": {},
   "source": [
    "Run the three cases in parallel with 3 processes "
   ]
  },
  {
   "cell_type": "code",
   "execution_count": 15,
   "metadata": {},
   "outputs": [
    {
     "name": "stdout",
     "output_type": "stream",
     "text": [
      "CPU times: user 68.5 ms, sys: 50 ms, total: 119 ms\n",
      "Wall time: 18.7 s\n"
     ]
    }
   ],
   "source": [
    "%%time\n",
    "sims = m.run_batch(configs=cfgs, labels=labels, nproc=3)"
   ]
  },
  {
   "cell_type": "markdown",
   "metadata": {},
   "source": [
    "Plot the temperature in `KPP-CVMix` and the differences from it in `KPPLT-VR12` and `KPPLT-LF17`"
   ]
  },
  {
   "cell_type": "code",
   "execution_count": 16,
   "metadata": {},
   "outputs": [
    {
     "data": {
      "image/png": "[encoded data removed]",
      "text/plain": [
       "<Figure size 576x648 with 6 Axes>"
      ]
     },
     "metadata": {
      "needs_background": "light"
     },
     "output_type": "display_data"
    }
   ],
   "source": [
    "fig, axarr = plt.subplots(3, sharex='col')\n",
    "fig.set_size_inches(8, 9)\n",
    "data0 = sims[0].load_data()\n",
    "levels = np.linspace(12, 17, 51)\n",
    "data0.temp.plot(ax=axarr[0], levels=levels)\n",
    "axarr[0].set_title(labels[0])\n",
    "levels_diff = np.linspace(-2, 2, 41)\n",
    "for i in np.arange(2):\n",
    "    j = i+1\n",
    "    diff = sims[j].load_data().temp - data0.temp\n",
    "    diff.attrs['long_name'] = '$\\Delta$ '+ data0.temp.attrs['long_name']\n",
    "    diff.attrs['units'] = data0.temp.attrs['units']\n",
    "    diff.plot(ax=axarr[j], levels=levels_diff)\n",
    "    axarr[j].set_title(labels[j]+' $-$ '+labels[0])\n",
    "for i in np.arange(3):\n",
    "    axarr[i].set_xlabel('')"
   ]
  }
 ],
 "metadata": {
  "kernelspec": {
   "display_name": "Python 3",
   "language": "python",
   "name": "python3"
  },
  "language_info": {
   "codemirror_mode": {
    "name": "ipython",
    "version": 3
   },
   "file_extension": ".py",
   "mimetype": "text/x-python",
   "name": "python",
   "nbconvert_exporter": "python",
   "pygments_lexer": "ipython3",
   "version": "3.9.12"
  }
 },
 "nbformat": 4,
 "nbformat_minor": 4
}
