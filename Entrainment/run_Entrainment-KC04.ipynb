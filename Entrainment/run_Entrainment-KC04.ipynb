{
 "cells": [
  {
   "cell_type": "markdown",
   "metadata": {},
   "source": [
    "# Idealized entrainment\n",
    "\n",
    "This notebook runs [GOTM](https://gotm.net/) using the [entrainment](https://gotm.net/cases/entrainment/) test case, an idealized wind stress-driven entrainment case with no rotation, in which the mixed layer gradually entrains into an underlying non-turbulent region with constant stable stratification.\n",
    "    \n",
    "Run the case with a vertical resolution of 0.3 m and time step of 10 s."
   ]
  },
  {
   "cell_type": "code",
   "execution_count": 1,
   "metadata": {},
   "outputs": [],
   "source": [
    "import sys\n",
    "import copy\n",
    "import numpy as np\n",
    "import matplotlib.pyplot as plt\n",
    "# add the path of gotmtool\n",
    "sys.path.append(\"../gotmtool\")\n",
    "from gotmtool import *"
   ]
  },
  {
   "cell_type": "markdown",
   "metadata": {},
   "source": [
    "## Create a model\n",
    "Create a model with environment file `.gotm_env.yaml`, which is created by `gotm_env_init.py`. "
   ]
  },
  {
   "cell_type": "code",
   "execution_count": 2,
   "metadata": {},
   "outputs": [],
   "source": [
    "m = Model(name='Entrainment-KC04', environ='../gotmtool/.gotm_env.yaml')"
   ]
  },
  {
   "cell_type": "markdown",
   "metadata": {},
   "source": [
    "Take a look at what are defined in the environment file."
   ]
  },
  {
   "cell_type": "code",
   "execution_count": 3,
   "metadata": {},
   "outputs": [
    {
     "name": "stdout",
     "output_type": "stream",
     "text": [
      "   gotmdir_code: /home/qingli/work/gotm/A2022_SMCLT_in_GOTM/gotm/code\n",
      "   gotmdir_data: /home/qingli/work/gotm/A2022_SMCLT_in_GOTM/gotm/data\n",
      "  gotmdir_build: /home/qingli/work/gotm/A2022_SMCLT_in_GOTM/gotm/build\n",
      "    gotmdir_exe: /home/qingli/work/gotm/A2022_SMCLT_in_GOTM/gotm/exe\n",
      "    gotmdir_run: /home/qingli/work/gotm/A2022_SMCLT_in_GOTM/gotm/run\n",
      " gotmdir_figure: /home/qingli/work/gotm/A2022_SMCLT_in_GOTM/gotm/figure\n",
      "   gotmdir_tool: /home/qingli/work/gotm/A2022_SMCLT_in_GOTM/gotmtool\n"
     ]
    }
   ],
   "source": [
    "for key in m.environ:\n",
    "    print('{:>15s}: {}'.format(key, m.environ[key]) )"
   ]
  },
  {
   "cell_type": "markdown",
   "metadata": {},
   "source": [
    "## Build the model"
   ]
  },
  {
   "cell_type": "code",
   "execution_count": 4,
   "metadata": {},
   "outputs": [
    {
     "name": "stdout",
     "output_type": "stream",
     "text": [
      "\u001b[94mWARNING: GOTM is updated. Skipping the build step. Use 'clean=True' to rebuild\u001b[0m\n",
      "CPU times: user 15.6 ms, sys: 12.7 ms, total: 28.4 ms\n",
      "Wall time: 93.2 ms\n"
     ]
    }
   ],
   "source": [
    "%%time\n",
    "m.build()"
   ]
  },
  {
   "cell_type": "markdown",
   "metadata": {},
   "source": [
    "## Configuration\n",
    "Initialize the GOTM configuration"
   ]
  },
  {
   "cell_type": "code",
   "execution_count": 5,
   "metadata": {},
   "outputs": [
    {
     "name": "stdout",
     "output_type": "stream",
     "text": [
      "Generating default configuration at '/home/qingli/work/gotm/A2022_SMCLT_in_GOTM/gotm/run/Entrainment-KC04/gotm.yaml'...\n",
      "\u001b[92mDone!\u001b[0m\n"
     ]
    },
    {
     "name": "stderr",
     "output_type": "stream",
     "text": [
      " ------------------------------------------------------------------------\n",
      " GOTM started on 2022/06/27 at 10:12:54\n",
      " ------------------------------------------------------------------------\n",
      "    initialize_gotm\n",
      " ------------------------------------------------------------------------\n",
      "        Reading configuration from: gotm.yaml\n",
      "        configuring modules ....\n",
      "    init_airsea_yaml\n",
      "        done\n",
      "    init_observations_yaml\n",
      "    init_stokes_drift_yaml\n",
      "        done\n",
      "    init_turbulence_yaml\n",
      "        done.\n",
      "    init_cvmix_yaml\n",
      "        done.\n",
      "    init_meanflow_yaml\n",
      "        done\n",
      "    init_eqstate_yaml\n",
      "        done.\n",
      " Your configuration has been written to /home/qingli/work/gotm/A2022_SMCLT_in_GOTM/gotm/run/Entrainment-KC04/gotm.yaml.\n",
      "STOP 0\n"
     ]
    }
   ],
   "source": [
    "cfg = m.init_config()"
   ]
  },
  {
   "cell_type": "markdown",
   "metadata": {},
   "source": [
    "Update the configuration"
   ]
  },
  {
   "cell_type": "code",
   "execution_count": 6,
   "metadata": {},
   "outputs": [],
   "source": [
    "# setup\n",
    "title = 'Shear-driven Entrainment'\n",
    "nlev = 100\n",
    "cfg['title'] = title\n",
    "cfg['location']['name'] = 'equator'\n",
    "cfg['location']['latitude'] = 0.0\n",
    "cfg['location']['longitude'] = 0.0\n",
    "cfg['location']['depth'] = 30.0\n",
    "cfg['time']['start'] = '2005-01-01 00:00:00'\n",
    "cfg['time']['stop']  = '2005-01-01 06:00:00'\n",
    "cfg['time']['dt'] = 10\n",
    "cfg['grid']['nlev']  = nlev\n",
    "\n",
    "# output\n",
    "cfg['output'] = {}\n",
    "cfg['output']['gotm_out'] = {}\n",
    "cfg['output']['gotm_out']['use'] = True\n",
    "cfg['output']['gotm_out']['title'] = title\n",
    "cfg['output']['gotm_out']['time_unit'] = 'dt'\n",
    "cfg['output']['gotm_out']['time_step'] = 90\n",
    "cfg['output']['gotm_out']['variables'] = [{}]\n",
    "cfg['output']['gotm_out']['variables'][0]['source'] = '*'\n",
    "cfg['output']['gotm_out']['k1_stop'] = nlev+1\n",
    "cfg['output']['gotm_out']['k_stop'] = nlev\n",
    "\n",
    "# forcing\n",
    "cfg['temperature']['method'] = 'buoyancy'\n",
    "cfg['temperature']['two_layer']['t_s'] = 20.0\n",
    "cfg['temperature']['NN'] = 1e-4\n",
    "cfg['salinity']['method'] = 'constant'\n",
    "cfg['salinity']['constant_value'] = 20.0\n",
    "cfg['surface']['fluxes']['method'] = 'off'\n",
    "cfg['surface']['fluxes']['heat']['method'] = 'constant'\n",
    "# since KPPLT-LF17 only use the Langmuir enhanced entrainment\n",
    "# under destabilizing conditions, use a small destabilizing heat\n",
    "# flux to activate it\n",
    "cfg['surface']['fluxes']['heat']['constant_value'] = -1.0e-12 \n",
    "cfg['surface']['fluxes']['tx']['method'] = 'constant'\n",
    "cfg['surface']['fluxes']['tx']['constant_value'] = 1.027e-1\n",
    "cfg['surface']['fluxes']['ty']['method'] = 'constant'\n",
    "cfg['surface']['fluxes']['ty']['constant_value'] = 0.0\n",
    "\n",
    "cfg['waves']['stokes_drift']['us']['method'] = 'exponential'\n",
    "cfg['waves']['stokes_drift']['vs']['method'] = 'exponential'\n",
    "cfg['waves']['stokes_drift']['dusdz']['method'] = 'us'\n",
    "cfg['waves']['stokes_drift']['dvsdz']['method'] = 'vs'\n",
    "cfg['waves']['stokes_drift']['exponential']['us0']['method'] = 'constant'\n",
    "cfg['waves']['stokes_drift']['exponential']['us0']['constant_value'] = 0.2\n",
    "cfg['waves']['stokes_drift']['exponential']['vs0']['method'] = 'constant'\n",
    "cfg['waves']['stokes_drift']['exponential']['vs0']['constant_value'] = 0.0\n",
    "cfg['waves']['stokes_drift']['exponential']['ds']['method'] = 'constant'\n",
    "cfg['waves']['stokes_drift']['exponential']['ds']['constant_value'] = 5.0\n",
    "\n",
    "# EOS \n",
    "cfg['eq_state']['method'] = 'unesco'\n",
    "cfg['eq_state']['form'] = 'full-pot'\n",
    "\n"
   ]
  },
  {
   "cell_type": "markdown",
   "metadata": {},
   "source": [
    "## Run the model"
   ]
  },
  {
   "cell_type": "markdown",
   "metadata": {},
   "source": [
    "Set the configurations and labels for each run"
   ]
  },
  {
   "cell_type": "code",
   "execution_count": 7,
   "metadata": {},
   "outputs": [],
   "source": [
    "cfgs = []\n",
    "labels = []"
   ]
  },
  {
   "cell_type": "code",
   "execution_count": 8,
   "metadata": {},
   "outputs": [],
   "source": [
    "# configure KC04-MY\n",
    "e6list = [1.0, 4.0, 6.0, 7.0]\n",
    "cfg['turbulence']['turb_method'] = 'second_order'\n",
    "cfg['turbulence']['tke_method'] = 'mellor_yamada'\n",
    "cfg['turbulence']['len_scale_method'] = 'mellor_yamada'\n",
    "cfg['turbulence']['scnd']['method'] =  'quasi_eq'\n",
    "cfg['turbulence']['scnd']['scnd_coeff'] =  'kantha_clayson'\n",
    "cfg['turbulence']['turb_param']['length_lim'] = 'false'\n",
    "cfg['turbulence']['turb_param']['compute_c3'] = 'true'\n",
    "cfg['turbulence']['turb_param']['Ri_st'] = 0.2\n",
    "cfg['turbulence']['turb_param']['compute_kappa'] = 'true'\n",
    "for e6 in e6list:\n",
    "    cfg['turbulence']['my']['e6'] = e6\n",
    "    cfgs.append(copy.deepcopy(cfg))\n",
    "    labels.append('KC04-MY-e6-{:.1f}'.format(e6))\n",
    "\n",
    "# configure KC04-k-omega\n",
    "c4list = [0.15, 0.3, 0.555, 1.2]\n",
    "cfg['turbulence']['turb_method'] = 'second_order'\n",
    "cfg['turbulence']['tke_method'] = 'tke'\n",
    "cfg['turbulence']['len_scale_method'] = 'gls'\n",
    "cfg['turbulence']['scnd']['method'] =  'quasi_eq'\n",
    "cfg['turbulence']['scnd']['scnd_coeff'] =  'kantha_clayson'\n",
    "cfg['turbulence']['turb_param']['length_lim'] = 'false'\n",
    "cfg['turbulence']['turb_param']['compute_c3'] = 'true'\n",
    "cfg['turbulence']['turb_param']['Ri_st'] = 0.2\n",
    "cfg['turbulence']['turb_param']['compute_kappa'] = 'true'\n",
    "cfg['turbulence']['generic']['gen_m'] = 0.5 \n",
    "cfg['turbulence']['generic']['gen_n'] = -1.0\n",
    "cfg['turbulence']['generic']['gen_p'] = -1.0 \n",
    "cfg['turbulence']['generic']['cpsi1'] = 0.55\n",
    "cfg['turbulence']['generic']['cpsi2'] = 0.833\n",
    "cfg['turbulence']['generic']['cpsi3minus'] = 0.0\n",
    "cfg['turbulence']['generic']['cpsi3plus'] = 0.0 \n",
    "cfg['turbulence']['generic']['sig_kpsi'] = 2.0 \n",
    "cfg['turbulence']['generic']['sig_psi'] = 2.0\n",
    "cfg['turbulence']['generic']['gen_d'] = -1.087\n",
    "cfg['turbulence']['generic']['gen_alpha'] = -4.97\n",
    "cfg['turbulence']['generic']['gen_l'] = 0.09\n",
    "for c4 in c4list:\n",
    "    cfg['turbulence']['generic']['cpsi4'] = c4\n",
    "    cfgs.append(copy.deepcopy(cfg))\n",
    "    labels.append('KC04-k-omega-c4-{:.3f}'.format(c4))"
   ]
  },
  {
   "cell_type": "code",
   "execution_count": 9,
   "metadata": {},
   "outputs": [],
   "source": [
    "# turn off Stokes drift\n",
    "cfg['waves']['stokes_drift']['us']['method'] = 'off'\n",
    "cfg['waves']['stokes_drift']['vs']['method'] = 'off'\n",
    "cfg['waves']['stokes_drift']['dusdz']['method'] = 'off'\n",
    "cfg['waves']['stokes_drift']['dvsdz']['method'] = 'off'\n",
    "\n",
    "# configure KC04-MY without Stokes drift\n",
    "cfg['turbulence']['turb_method'] = 'second_order'\n",
    "cfg['turbulence']['tke_method'] = 'mellor_yamada'\n",
    "cfg['turbulence']['len_scale_method'] = 'mellor_yamada'\n",
    "cfg['turbulence']['scnd']['method'] =  'quasi_eq'\n",
    "cfg['turbulence']['scnd']['scnd_coeff'] =  'kantha_clayson'\n",
    "cfg['turbulence']['turb_param']['length_lim'] = 'false'\n",
    "cfg['turbulence']['turb_param']['compute_c3'] = 'true'\n",
    "cfg['turbulence']['turb_param']['Ri_st'] = 0.2\n",
    "cfg['turbulence']['turb_param']['compute_kappa'] = 'true'\n",
    "cfg['turbulence']['my']['e6'] = 4.0\n",
    "cfgs.append(copy.deepcopy(cfg))\n",
    "labels.append('KC04-MY-NS')\n",
    "\n",
    "# configure KC04-k-omega without Stokes drift\n",
    "cfg['turbulence']['turb_method'] = 'second_order'\n",
    "cfg['turbulence']['tke_method'] = 'tke'\n",
    "cfg['turbulence']['len_scale_method'] = 'gls'\n",
    "cfg['turbulence']['scnd']['method'] =  'quasi_eq'\n",
    "cfg['turbulence']['scnd']['scnd_coeff'] =  'kantha_clayson'\n",
    "cfg['turbulence']['turb_param']['length_lim'] = 'false'\n",
    "cfg['turbulence']['turb_param']['compute_c3'] = 'true'\n",
    "cfg['turbulence']['turb_param']['Ri_st'] = 0.2\n",
    "cfg['turbulence']['turb_param']['compute_kappa'] = 'true'\n",
    "cfg['turbulence']['generic']['gen_m'] = 0.5 \n",
    "cfg['turbulence']['generic']['gen_n'] = -1.0\n",
    "cfg['turbulence']['generic']['gen_p'] = -1.0 \n",
    "cfg['turbulence']['generic']['cpsi1'] = 0.55\n",
    "cfg['turbulence']['generic']['cpsi2'] = 0.833\n",
    "cfg['turbulence']['generic']['cpsi3minus'] = 0.0\n",
    "cfg['turbulence']['generic']['cpsi3plus'] = 0.0 \n",
    "cfg['turbulence']['generic']['sig_kpsi'] = 2.0 \n",
    "cfg['turbulence']['generic']['sig_psi'] = 2.0\n",
    "cfg['turbulence']['generic']['gen_d'] = -1.087\n",
    "cfg['turbulence']['generic']['gen_alpha'] = -4.97\n",
    "cfg['turbulence']['generic']['gen_l'] = 0.09\n",
    "cfg['turbulence']['generic']['cpsi4'] = 0.15\n",
    "cfgs.append(copy.deepcopy(cfg))\n",
    "labels.append('KC04-k-omega-NS')"
   ]
  },
  {
   "cell_type": "markdown",
   "metadata": {},
   "source": [
    "Run the cases in parallel with 4 processes "
   ]
  },
  {
   "cell_type": "code",
   "execution_count": 10,
   "metadata": {},
   "outputs": [
    {
     "name": "stdout",
     "output_type": "stream",
     "text": [
      "CPU times: user 36.3 ms, sys: 24.4 ms, total: 60.8 ms\n",
      "Wall time: 579 ms\n"
     ]
    }
   ],
   "source": [
    "%%time\n",
    "sims = m.run_batch(configs=cfgs, labels=labels, nproc=4)"
   ]
  }
 ],
 "metadata": {
  "kernelspec": {
   "display_name": "Python 3",
   "language": "python",
   "name": "python3"
  },
  "language_info": {
   "codemirror_mode": {
    "name": "ipython",
    "version": 3
   },
   "file_extension": ".py",
   "mimetype": "text/x-python",
   "name": "python",
   "nbconvert_exporter": "python",
   "pygments_lexer": "ipython3",
   "version": "3.9.12"
  }
 },
 "nbformat": 4,
 "nbformat_minor": 4
}
