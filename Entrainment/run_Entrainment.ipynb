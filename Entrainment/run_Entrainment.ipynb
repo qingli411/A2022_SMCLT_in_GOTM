{
 "cells": [
  {
   "cell_type": "markdown",
   "metadata": {},
   "source": [
    "# Idealized entrainment\n",
    "\n",
    "This notebook runs [GOTM](https://gotm.net/) using the [entrainment](https://gotm.net/cases/entrainment/) test case, an idealized wind stress-driven entrainment case with no rotation, in which the mixed layer gradually entrains into an underlying non-turbulent region with constant stable stratification.\n",
    "\n",
    "Four turbulence closure schemes are used:\n",
    "\n",
    "- GLS-C01A: The generic length scale ([Umlauf and Burchard, 2003](https://doi.org/10.1357/002224003322005087)) model in the $k$-$\\epsilon$ formulation with the weak-equilibrium stability function by [Canuto et al., 2001](https://doi.org/10.1175/1520-0485(2001)031%3C1413:OTPIOP%3E2.0.CO;2) (C01A).\n",
    "\n",
    "- Three variants of KPP via [CVMix](http://cvmix.github.io):\n",
    "    - KPP-CVMix ([Large et al., 1994](https://doi.org/10.1029/94RG01872), [Griffies et al., 2015](https://github.com/CVMix/CVMix-description/raw/master/cvmix.pdf))\n",
    "    - KPPLT-VR12 ([Li et al., 2016](https://doi.org/10.1016%2Fj.ocemod.2015.07.020))\n",
    "    - KPPLT-LF17 ([Li and Fox-Kemper, 2017](https://doi.org/10.1175%2FJPO-D-17-0085.1))\n",
    "    \n",
    "Run the case with a vertical resolution of 0.3 m and time step of 10 s."
   ]
  },
  {
   "cell_type": "code",
   "execution_count": 1,
   "metadata": {},
   "outputs": [],
   "source": [
    "import sys\n",
    "import copy\n",
    "import numpy as np\n",
    "import matplotlib.pyplot as plt\n",
    "# add the path of gotmtool\n",
    "sys.path.append(\"../gotmtool\")\n",
    "from gotmtool import *"
   ]
  },
  {
   "cell_type": "markdown",
   "metadata": {},
   "source": [
    "## Create a model\n",
    "Create a model with environment file `.gotm_env.yaml`, which is created by `gotm_env_init.py`. "
   ]
  },
  {
   "cell_type": "code",
   "execution_count": 2,
   "metadata": {},
   "outputs": [],
   "source": [
    "m = Model(name='Entrainment', environ='../gotmtool/.gotm_env.yaml')"
   ]
  },
  {
   "cell_type": "markdown",
   "metadata": {},
   "source": [
    "Take a look at what are defined in the environment file."
   ]
  },
  {
   "cell_type": "code",
   "execution_count": 3,
   "metadata": {},
   "outputs": [
    {
     "name": "stdout",
     "output_type": "stream",
     "text": [
      "   gotmdir_code: /home/qingli/work/gotm/A2022_SMCLT_in_GOTM/gotm/code\n",
      "   gotmdir_data: /home/qingli/work/gotm/A2022_SMCLT_in_GOTM/gotm/data\n",
      "  gotmdir_build: /home/qingli/work/gotm/A2022_SMCLT_in_GOTM/gotm/build\n",
      "    gotmdir_exe: /home/qingli/work/gotm/A2022_SMCLT_in_GOTM/gotm/exe\n",
      "    gotmdir_run: /home/qingli/work/gotm/A2022_SMCLT_in_GOTM/gotm/run\n",
      " gotmdir_figure: /home/qingli/work/gotm/A2022_SMCLT_in_GOTM/gotm/figure\n",
      "   gotmdir_tool: /home/qingli/work/gotm/A2022_SMCLT_in_GOTM/gotmtool\n"
     ]
    }
   ],
   "source": [
    "for key in m.environ:\n",
    "    print('{:>15s}: {}'.format(key, m.environ[key]) )"
   ]
  },
  {
   "cell_type": "markdown",
   "metadata": {},
   "source": [
    "## Build the model"
   ]
  },
  {
   "cell_type": "code",
   "execution_count": 4,
   "metadata": {},
   "outputs": [
    {
     "name": "stdout",
     "output_type": "stream",
     "text": [
      "\u001b[94mWARNING: GOTM is updated. Skipping the build step. Use 'clean=True' to rebuild\u001b[0m\n",
      "CPU times: user 3.93 ms, sys: 21.4 ms, total: 25.3 ms\n",
      "Wall time: 90.3 ms\n"
     ]
    }
   ],
   "source": [
    "%%time\n",
    "m.build()"
   ]
  },
  {
   "cell_type": "markdown",
   "metadata": {},
   "source": [
    "## Configuration\n",
    "Initialize the GOTM configuration"
   ]
  },
  {
   "cell_type": "code",
   "execution_count": 5,
   "metadata": {},
   "outputs": [
    {
     "name": "stdout",
     "output_type": "stream",
     "text": [
      "Generating default configuration at '/home/qingli/work/gotm/A2022_SMCLT_in_GOTM/gotm/run/Entrainment/gotm.yaml'...\n",
      "\u001b[92mDone!\u001b[0m\n"
     ]
    },
    {
     "name": "stderr",
     "output_type": "stream",
     "text": [
      " ------------------------------------------------------------------------\n",
      " GOTM started on 2022/06/26 at 15:41:26\n",
      " ------------------------------------------------------------------------\n",
      "    initialize_gotm\n",
      " ------------------------------------------------------------------------\n",
      "        Reading configuration from: gotm.yaml\n",
      "        configuring modules ....\n",
      "    init_airsea_yaml\n",
      "        done\n",
      "    init_observations_yaml\n",
      "    init_stokes_drift_yaml\n",
      "        done\n",
      "    init_turbulence_yaml\n",
      "        done.\n",
      "    init_cvmix_yaml\n",
      "        done.\n",
      "    init_meanflow_yaml\n",
      "        done\n",
      "    init_eqstate_yaml\n",
      "        done.\n",
      " Your configuration has been written to /home/qingli/work/gotm/A2022_SMCLT_in_GOTM/gotm/run/Entrainment/gotm.yaml.\n",
      "STOP 0\n"
     ]
    }
   ],
   "source": [
    "cfg = m.init_config()"
   ]
  },
  {
   "cell_type": "markdown",
   "metadata": {},
   "source": [
    "Update the configuration"
   ]
  },
  {
   "cell_type": "code",
   "execution_count": 6,
   "metadata": {},
   "outputs": [],
   "source": [
    "# setup\n",
    "title = 'Shear-driven Entrainment'\n",
    "nlev = 100\n",
    "cfg['title'] = title\n",
    "cfg['location']['name'] = 'equator'\n",
    "cfg['location']['latitude'] = 0.0\n",
    "cfg['location']['longitude'] = 0.0\n",
    "cfg['location']['depth'] = 30.0\n",
    "cfg['time']['start'] = '2005-01-01 00:00:00'\n",
    "cfg['time']['stop']  = '2005-01-01 06:00:00'\n",
    "cfg['time']['dt'] = 10\n",
    "cfg['grid']['nlev']  = nlev\n",
    "\n",
    "# output\n",
    "cfg['output'] = {}\n",
    "cfg['output']['gotm_out'] = {}\n",
    "cfg['output']['gotm_out']['use'] = True\n",
    "cfg['output']['gotm_out']['title'] = title\n",
    "cfg['output']['gotm_out']['time_unit'] = 'dt'\n",
    "cfg['output']['gotm_out']['time_step'] = 90\n",
    "cfg['output']['gotm_out']['variables'] = [{}]\n",
    "cfg['output']['gotm_out']['variables'][0]['source'] = '*'\n",
    "cfg['output']['gotm_out']['k1_stop'] = nlev+1\n",
    "cfg['output']['gotm_out']['k_stop'] = nlev\n",
    "\n",
    "# forcing\n",
    "cfg['temperature']['method'] = 'buoyancy'\n",
    "cfg['temperature']['two_layer']['t_s'] = 20.0\n",
    "cfg['temperature']['NN'] = 1e-4\n",
    "cfg['salinity']['method'] = 'constant'\n",
    "cfg['salinity']['constant_value'] = 20.0\n",
    "cfg['surface']['fluxes']['method'] = 'off'\n",
    "cfg['surface']['fluxes']['heat']['method'] = 'constant'\n",
    "# since KPPLT-LF17 only use the Langmuir enhanced entrainment\n",
    "# under destabilizing conditions, use a small destabilizing heat\n",
    "# flux to activate it\n",
    "cfg['surface']['fluxes']['heat']['constant_value'] = -1.0e-12 \n",
    "cfg['surface']['fluxes']['tx']['method'] = 'constant'\n",
    "cfg['surface']['fluxes']['tx']['constant_value'] = 1.027e-1\n",
    "cfg['surface']['fluxes']['ty']['method'] = 'constant'\n",
    "cfg['surface']['fluxes']['ty']['constant_value'] = 0.0\n",
    "\n",
    "cfg['waves']['stokes_drift']['us']['method'] = 'exponential'\n",
    "cfg['waves']['stokes_drift']['vs']['method'] = 'exponential'\n",
    "cfg['waves']['stokes_drift']['dusdz']['method'] = 'us'\n",
    "cfg['waves']['stokes_drift']['dvsdz']['method'] = 'vs'\n",
    "cfg['waves']['stokes_drift']['exponential']['us0']['method'] = 'constant'\n",
    "cfg['waves']['stokes_drift']['exponential']['us0']['constant_value'] = 0.2\n",
    "cfg['waves']['stokes_drift']['exponential']['vs0']['method'] = 'constant'\n",
    "cfg['waves']['stokes_drift']['exponential']['vs0']['constant_value'] = 0.0\n",
    "cfg['waves']['stokes_drift']['exponential']['ds']['method'] = 'constant'\n",
    "cfg['waves']['stokes_drift']['exponential']['ds']['constant_value'] = 5.0\n",
    "\n",
    "# EOS \n",
    "cfg['eq_state']['method'] = 'unesco'\n",
    "cfg['eq_state']['form'] = 'full-pot'\n",
    "\n"
   ]
  },
  {
   "cell_type": "markdown",
   "metadata": {},
   "source": [
    "## Run the model"
   ]
  },
  {
   "cell_type": "markdown",
   "metadata": {},
   "source": [
    "Set the configurations and labels for each run"
   ]
  },
  {
   "cell_type": "code",
   "execution_count": 7,
   "metadata": {},
   "outputs": [],
   "source": [
    "cfgs = []\n",
    "labels = []"
   ]
  },
  {
   "cell_type": "code",
   "execution_count": 8,
   "metadata": {},
   "outputs": [],
   "source": [
    "# configure GLS-C01A\n",
    "cfg['turbulence']['turb_method'] = 'second_order'\n",
    "cfg['turbulence']['tke_method'] = 'tke'\n",
    "cfg['turbulence']['len_scale_method'] = 'gls'\n",
    "cfg['turbulence']['scnd']['method'] =  'weak_eq_kb_eq'\n",
    "cfg['turbulence']['scnd']['scnd_coeff'] =  'canuto-a'\n",
    "cfg['turbulence']['turb_param']['length_lim'] = 'false'\n",
    "cfg['turbulence']['turb_param']['compute_c3'] = 'true'\n",
    "cfg['turbulence']['turb_param']['Ri_st'] = 0.2\n",
    "cfg['turbulence']['generic']['gen_m'] = 1.5 \n",
    "cfg['turbulence']['generic']['gen_n'] = -1.0\n",
    "cfg['turbulence']['generic']['gen_p'] = 3.0 \n",
    "cfg['turbulence']['generic']['cpsi1'] = 1.44\n",
    "cfg['turbulence']['generic']['cpsi2'] = 1.92\n",
    "cfg['turbulence']['generic']['cpsi3minus'] = -0.63\n",
    "cfg['turbulence']['generic']['cpsi3plus'] = 1.0 \n",
    "cfg['turbulence']['generic']['sig_kpsi'] = 1.0 \n",
    "cfg['turbulence']['generic']['sig_psi'] = 1.3\n",
    "cfgs.append(copy.deepcopy(cfg))\n",
    "labels.append('GLS-C01A')\n",
    "cfg['turbulence']['turb_method'] = 'cvmix'\n",
    "cfg['cvmix']['surface_layer']['kpp']['langmuir_method'] = 'none'\n",
    "cfgs.append(copy.deepcopy(cfg))\n",
    "labels.append('KPP-CVMix')\n",
    "cfg['cvmix']['surface_layer']['kpp']['langmuir_method'] = 'lwf16'\n",
    "cfgs.append(copy.deepcopy(cfg))\n",
    "labels.append('KPPLT-VR12')\n",
    "cfg['cvmix']['surface_layer']['kpp']['langmuir_method'] = 'lf17'\n",
    "cfgs.append(copy.deepcopy(cfg))\n",
    "labels.append('KPPLT-LF17')"
   ]
  },
  {
   "cell_type": "markdown",
   "metadata": {},
   "source": [
    "Run the cases in parallel with 4 processes "
   ]
  },
  {
   "cell_type": "code",
   "execution_count": 9,
   "metadata": {},
   "outputs": [
    {
     "name": "stdout",
     "output_type": "stream",
     "text": [
      "CPU times: user 28.3 ms, sys: 26.6 ms, total: 54.9 ms\n",
      "Wall time: 11.9 s\n"
     ]
    }
   ],
   "source": [
    "%%time\n",
    "sims = m.run_batch(configs=cfgs, labels=labels, nproc=4)"
   ]
  }
 ],
 "metadata": {
  "kernelspec": {
   "display_name": "Python 3",
   "language": "python",
   "name": "python3"
  },
  "language_info": {
   "codemirror_mode": {
    "name": "ipython",
    "version": 3
   },
   "file_extension": ".py",
   "mimetype": "text/x-python",
   "name": "python",
   "nbconvert_exporter": "python",
   "pygments_lexer": "ipython3",
   "version": "3.9.12"
  }
 },
 "nbformat": 4,
 "nbformat_minor": 4
}
