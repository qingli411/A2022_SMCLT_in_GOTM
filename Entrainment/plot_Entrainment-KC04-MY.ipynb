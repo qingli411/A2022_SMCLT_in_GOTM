{
 "cells": [
  {
   "cell_type": "markdown",
   "metadata": {},
   "source": [
    "# Idealized entrainment\n",
    "\n",
    "This notebook visualizes the results of GOTM simulations in an idealized wind stress-driven entrainment case with no rotation, in which the mixed layer gradually entrains into an underlying non-turbulent region with constant stable stratification.\n",
    "The results are compared with the scaling derived from laboratory experiments of [Price (1979)](https://doi.org/10.1017/S0022112079002366), in which the time evolution of the mixed layer depth follows\n",
    "\n",
    "$h_m(t) = (2R_v)^{1/4}u_*\\left(\\frac{t}{N_0}\\right)^{1/2}$\n",
    "\n",
    "where $R_v\\approx0.6$ is the bulk Richardson number, $u_*$ the water side surface friction velocity, $N_0$ the initial buoyancy frequency.\n",
    "See, e.g., section 5.1 of [Umlauf and Burchard (2005)](https://doi.org/10.1016/j.csr.2004.08.004) for more details."
   ]
  },
  {
   "cell_type": "code",
   "execution_count": 1,
   "metadata": {},
   "outputs": [],
   "source": [
    "import sys\n",
    "import numpy as np\n",
    "import string\n",
    "import matplotlib.pyplot as plt\n",
    "from matplotlib import cm\n",
    "# add the path of gotmtool\n",
    "sys.path.append(\"../gotmtool\")\n",
    "from gotmtool import *\n",
    "from gotmtool.diags import *"
   ]
  },
  {
   "cell_type": "markdown",
   "metadata": {},
   "source": [
    "## Load data"
   ]
  },
  {
   "cell_type": "code",
   "execution_count": 2,
   "metadata": {},
   "outputs": [],
   "source": [
    "casenames = ['KPP-CVMix', 'KPPLT-LF17']\n",
    "labels = {'KPP-CVMix': 'KPP-CVMix', 'KPPLT-LF17': 'KPPLT-LF17',}\n",
    "colors = {'KPP-CVMix': 'k', 'KPPLT-LF17': 'gray'}\n",
    "markers = {'KPP-CVMix': 'x', 'KPPLT-LF17': 'x'}\n",
    "nkpp = len(casenames)\n",
    "title = 'KC04-MY'\n",
    "e6list = [1.0, 4.0, 6.0, 7.0]\n",
    "cmap = cm.get_cmap('rainbow')\n",
    "ifrac = np.linspace(0, 1, len(e6list))             \n",
    "for i, e6 in enumerate(e6list):\n",
    "    casenames.append('KC04-MY-e6-{:.1f}'.format(e6))\n",
    "    labels[casenames[i+nkpp]] = '$e_6$={:.1f}'.format(e6)\n",
    "    colors[casenames[i+nkpp]] = cmap(ifrac[i])\n",
    "    markers[casenames[i+nkpp]] = 'o'\n",
    "\n",
    "casenames.append('KC04-MY-NS')\n",
    "labels[casenames[-1]] = 'w/o Stokes'\n",
    "colors[casenames[-1]] = 'k'\n",
    "markers[casenames[-1]] = 'o'\n",
    "\n",
    "casedir = '../gotm/run/Entrainment-KC04'\n",
    "casedir0 = '../Entrainment'\n",
    "for cn in ['KPP-CVMix', 'KPPLT-LF17']:\n",
    "    if not os.path.islink(os.path.join(casedir, cn)):\n",
    "        os.symlink(os.path.join(casedir0, cn), os.path.join(casedir, cn))\n",
    "save_fig = True"
   ]
  },
  {
   "cell_type": "code",
   "execution_count": 3,
   "metadata": {},
   "outputs": [
    {
     "data": {
      "text/plain": [
       "{'KPP-CVMix': 'KPP-CVMix',\n",
       " 'KPPLT-LF17': 'KPPLT-LF17',\n",
       " 'KC04-MY-e6-1.0': '$e_6$=1.0',\n",
       " 'KC04-MY-e6-4.0': '$e_6$=4.0',\n",
       " 'KC04-MY-e6-6.0': '$e_6$=6.0',\n",
       " 'KC04-MY-e6-7.0': '$e_6$=7.0',\n",
       " 'KC04-MY-NS': 'w/o Stokes'}"
      ]
     },
     "execution_count": 3,
     "metadata": {},
     "output_type": "execute_result"
    }
   ],
   "source": [
    "labels"
   ]
  },
  {
   "cell_type": "code",
   "execution_count": 4,
   "metadata": {},
   "outputs": [],
   "source": [
    "sims = {}\n",
    "dataset = {}\n",
    "for case in casenames:\n",
    "    sim = Simulation(path=casedir+'/'+case)\n",
    "    sims[case] = sim\n",
    "    dataset[case] = sim.load_data()"
   ]
  },
  {
   "cell_type": "markdown",
   "metadata": {},
   "source": [
    "## Figure\n",
    "\n",
    "A comparison of the time evolution of the mixed layer depth $h_m$ in GOTM simulations defined by the depth at which $N^2$ reaches its maximum in colored symbols, and the prediction of [Price (1979)](https://doi.org/10.1017/S0022112079002366) in black line.\n",
    "\n",
    "First, compute the predicted mixed layer depth."
   ]
  },
  {
   "cell_type": "code",
   "execution_count": 5,
   "metadata": {},
   "outputs": [],
   "source": [
    "data0 = dataset[casenames[0]]\n",
    "N0 = np.sqrt(data0.NN[2,-1,0,0].values)\n",
    "ustar = data0.u_taus[-1,0,0].values\n",
    "sec = ((data0.time - data0.time[0])/np.timedelta64(1, 's')).values\n",
    "mld_val = np.sqrt(np.sqrt(2.*0.6))*ustar*np.sqrt(sec/N0)\n",
    "mld_p79 = xr.DataArray(mld_val, dims=['time'], coords={'time': data0.time},  \n",
    "                  attrs={'long_name': 'mixed layer depth (Price 1979)',\n",
    "                        'units': 'm'})"
   ]
  },
  {
   "cell_type": "markdown",
   "metadata": {},
   "source": [
    "Then, plot the figure. See also Fig. 5a of [Umlauf and Burchard (2005)](https://doi.org/10.1016/j.csr.2004.08.004)."
   ]
  },
  {
   "cell_type": "code",
   "execution_count": 6,
   "metadata": {},
   "outputs": [
    {
     "data": {
      "image/png": "[encoded data removed]",
      "text/plain": [
       "<Figure size 360x360 with 1 Axes>"
      ]
     },
     "metadata": {
      "needs_background": "light"
     },
     "output_type": "display_data"
    }
   ],
   "source": [
    "fig = plt.figure(figsize=[5,5])\n",
    "hours = sec/3600.\n",
    "plt.plot(hours, mld_p79.values, color='k', linestyle='-', linewidth=1.5, label='P79')\n",
    "for case in casenames:\n",
    "    data = dataset[case]\n",
    "    NN = data.NN[:,:,0,0]\n",
    "    mld = get_bld_maxNN(NN)\n",
    "    plt.scatter(hours, mld.values, s=20, color=colors[case], marker=markers[case], label=labels[case])\n",
    "plt.ylabel('$h_m$ (m)')\n",
    "plt.xlabel('Time (hours)')\n",
    "plt.title(title)\n",
    "plt.xlim([hours[0], hours[-1]])\n",
    "plt.ylim([0,20])\n",
    "plt.legend(loc='lower right', ncol=2)\n",
    "plt.grid()\n",
    "if save_fig:\n",
    "    plt.tight_layout()\n",
    "    figname = 'entrainment_ts_kc04-my.pdf'\n",
    "    fig.savefig(figname, dpi=300)"
   ]
  },
  {
   "cell_type": "code",
   "execution_count": null,
   "metadata": {},
   "outputs": [],
   "source": []
  }
 ],
 "metadata": {
  "kernelspec": {
   "display_name": "Python 3",
   "language": "python",
   "name": "python3"
  },
  "language_info": {
   "codemirror_mode": {
    "name": "ipython",
    "version": 3
   },
   "file_extension": ".py",
   "mimetype": "text/x-python",
   "name": "python",
   "nbconvert_exporter": "python",
   "pygments_lexer": "ipython3",
   "version": "3.9.12"
  }
 },
 "nbformat": 4,
 "nbformat_minor": 4
}
